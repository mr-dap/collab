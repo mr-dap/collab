{
  "cells": [
    {
      "cell_type": "markdown",
      "metadata": {
        "id": "view-in-github",
        "colab_type": "text"
      },
      "source": [
        "<a href=\"https://colab.research.google.com/github/mr-dap/collab/blob/main/runtime.ipynb\" target=\"_parent\"><img src=\"https://colab.research.google.com/assets/colab-badge.svg\" alt=\"Open In Colab\"/></a>"
      ]
    },
    {
      "cell_type": "code",
      "execution_count": null,
      "metadata": {
        "id": "i0dSf6hfsqLN"
      },
      "outputs": [],
      "source": [
        "import zipfile\n",
        "import os\n",
        "\n",
        "# Specify the name of the zip file\n",
        "zip_file_name = 'video-convert.zip'\n",
        "\n",
        "# Specify the directory where you want to extract the contents\n",
        "extract_dir = ''\n",
        "\n",
        "# Create the directory if it doesn't exist\n",
        "os.makedirs(extract_dir, exist_ok=True)\n",
        "\n",
        "# Extract the contents of the zip file\n",
        "try:\n",
        "    with zipfile.ZipFile(zip_file_name, 'r') as zip_ref:\n",
        "        zip_ref.extractall(extract_dir)\n",
        "    print(\"Extraction complete.\")\n",
        "except Exception as e:\n",
        "    print(f\"Error occurred while extracting the zip file: {e}\")\n",
        "\n"
      ]
    },
    {
      "cell_type": "code",
      "source": [
        "# prompt: Extract the video-convert.zip and place in corrent directroty\n",
        "\n",
        "import zipfile\n",
        "import os\n",
        "\n",
        "# Specify the name of the zip file\n",
        "zip_file_name = 'video-convert.zip'\n",
        "\n",
        "# Specify the directory where you want to extract the contents\n",
        "extract_dir = '/video-convert'\n",
        "\n",
        "# Create the directory if it doesn't exist\n",
        "os.makedirs(extract_dir, exist_ok=True)\n",
        "\n",
        "# Extract the contents of the zip file\n",
        "try:\n",
        "    with zipfile.ZipFile(zip_file_name, 'r') as zip_ref:\n",
        "        zip_ref.extractall(extract_dir)\n",
        "    print(\"Extraction complete.\")\n",
        "except Exception as e:\n",
        "    print(f\"Error occurred while extracting the zip file: {e}\")\n"
      ],
      "metadata": {
        "colab": {
          "base_uri": "https://localhost:8080/"
        },
        "id": "sCHJX03yisaL",
        "outputId": "6acb556f-9cf3-466a-ec88-c5a67d9f2b57"
      },
      "execution_count": null,
      "outputs": [
        {
          "output_type": "stream",
          "name": "stdout",
          "text": [
            "Extraction complete.\n"
          ]
        }
      ]
    },
    {
      "cell_type": "markdown",
      "source": [],
      "metadata": {
        "id": "fLi6pI4Sldi1"
      }
    },
    {
      "cell_type": "code",
      "execution_count": null,
      "metadata": {
        "colab": {
          "base_uri": "https://localhost:8080/"
        },
        "id": "LZjZG8SUs8MU",
        "outputId": "27f27650-05af-4207-ccb5-1a4a4f04b949"
      },
      "outputs": [
        {
          "output_type": "stream",
          "name": "stdout",
          "text": [
            "Successfully moved all files from content folder to root directory.\n"
          ]
        }
      ],
      "source": [
        "import os\n",
        "\n",
        "# Get the current working directory.\n",
        "current_dir = os.getcwd()\n",
        "\n",
        "# Construct the path to the content folder, assuming it is one level up from the current directory.\n",
        "content_folder_path = os.path.join(current_dir, '..', 'content')\n",
        "\n",
        "# Construct the path to the root directory.\n",
        "root_dir_path = current_dir\n",
        "\n",
        "# Check if the content folder exists.\n",
        "if not os.path.exists(content_folder_path):\n",
        "    raise FileNotFoundError(\"Content folder does not exist.\")\n",
        "\n",
        "# List all files in the content folder.\n",
        "files = os.listdir(content_folder_path)\n",
        "\n",
        "# Iterate over each file and move it to the root directory.\n",
        "for file in files:\n",
        "    file_path = os.path.join(content_folder_path, file)\n",
        "    new_file_path = os.path.join(root_dir_path, file)\n",
        "    os.rename(file_path, new_file_path)\n",
        "\n",
        "print(\"Successfully moved all files from content folder to root directory.\")"
      ]
    },
    {
      "cell_type": "code",
      "source": [
        "!pwd\n"
      ],
      "metadata": {
        "id": "bqQPllQ9Vblf",
        "colab": {
          "base_uri": "https://localhost:8080/"
        },
        "outputId": "81f31563-3ce2-458b-cb75-0b552f6843f3"
      },
      "execution_count": 15,
      "outputs": [
        {
          "output_type": "stream",
          "name": "stdout",
          "text": [
            "/content\n"
          ]
        }
      ]
    },
    {
      "cell_type": "code",
      "source": [
        "import os\n",
        "\n",
        "os.chdir('/content')\n"
      ],
      "metadata": {
        "id": "S12R41L7kF21"
      },
      "execution_count": 14,
      "outputs": []
    },
    {
      "cell_type": "code",
      "source": [],
      "metadata": {
        "colab": {
          "base_uri": "https://localhost:8080/"
        },
        "id": "T55O5SOzlnWw",
        "outputId": "00f3c8ad-dce4-4ba1-a195-791af18f1e4f"
      },
      "execution_count": 6,
      "outputs": [
        {
          "output_type": "stream",
          "name": "stdout",
          "text": [
            "/content\n"
          ]
        }
      ]
    },
    {
      "cell_type": "code",
      "source": [
        "import sys\n",
        "sys.path.append('/content')\n"
      ],
      "metadata": {
        "id": "7EiA8DRpmik6"
      },
      "execution_count": 16,
      "outputs": []
    },
    {
      "cell_type": "code",
      "execution_count": 17,
      "metadata": {
        "id": "7RgOHSAat1LX",
        "colab": {
          "base_uri": "https://localhost:8080/"
        },
        "outputId": "846bdc1b-3c23-4e71-c7f1-77c07fbef10b"
      },
      "outputs": [
        {
          "output_type": "stream",
          "name": "stdout",
          "text": [
            "Requirement already satisfied: flask in /usr/local/lib/python3.10/dist-packages (from -r requirements.txt (line 2)) (2.2.5)\n",
            "Requirement already satisfied: moviepy in /usr/local/lib/python3.10/dist-packages (from -r requirements.txt (line 3)) (1.0.3)\n",
            "Requirement already satisfied: pandas in /usr/local/lib/python3.10/dist-packages (from -r requirements.txt (line 4)) (1.5.3)\n",
            "Requirement already satisfied: google-auth in /usr/local/lib/python3.10/dist-packages (from -r requirements.txt (line 5)) (2.27.0)\n",
            "Requirement already satisfied: textwrap3 in /usr/local/lib/python3.10/dist-packages (from -r requirements.txt (line 6)) (0.9.2)\n",
            "Requirement already satisfied: ffmpeg in /usr/local/lib/python3.10/dist-packages (from -r requirements.txt (line 7)) (1.4)\n",
            "Requirement already satisfied: openai-whisper in /usr/local/lib/python3.10/dist-packages (from -r requirements.txt (line 8)) (20231117)\n",
            "Requirement already satisfied: yt_dlp in /usr/local/lib/python3.10/dist-packages (from -r requirements.txt (line 9)) (2023.12.30)\n",
            "Requirement already satisfied: Werkzeug>=2.2.2 in /usr/local/lib/python3.10/dist-packages (from flask->-r requirements.txt (line 2)) (3.0.1)\n",
            "Requirement already satisfied: Jinja2>=3.0 in /usr/local/lib/python3.10/dist-packages (from flask->-r requirements.txt (line 2)) (3.1.3)\n",
            "Requirement already satisfied: itsdangerous>=2.0 in /usr/local/lib/python3.10/dist-packages (from flask->-r requirements.txt (line 2)) (2.1.2)\n",
            "Requirement already satisfied: click>=8.0 in /usr/local/lib/python3.10/dist-packages (from flask->-r requirements.txt (line 2)) (8.1.7)\n",
            "Requirement already satisfied: decorator<5.0,>=4.0.2 in /usr/local/lib/python3.10/dist-packages (from moviepy->-r requirements.txt (line 3)) (4.4.2)\n",
            "Requirement already satisfied: tqdm<5.0,>=4.11.2 in /usr/local/lib/python3.10/dist-packages (from moviepy->-r requirements.txt (line 3)) (4.66.2)\n",
            "Requirement already satisfied: requests<3.0,>=2.8.1 in /usr/local/lib/python3.10/dist-packages (from moviepy->-r requirements.txt (line 3)) (2.31.0)\n",
            "Requirement already satisfied: proglog<=1.0.0 in /usr/local/lib/python3.10/dist-packages (from moviepy->-r requirements.txt (line 3)) (0.1.10)\n",
            "Requirement already satisfied: numpy>=1.17.3 in /usr/local/lib/python3.10/dist-packages (from moviepy->-r requirements.txt (line 3)) (1.25.2)\n",
            "Requirement already satisfied: imageio<3.0,>=2.5 in /usr/local/lib/python3.10/dist-packages (from moviepy->-r requirements.txt (line 3)) (2.31.6)\n",
            "Requirement already satisfied: imageio-ffmpeg>=0.2.0 in /usr/local/lib/python3.10/dist-packages (from moviepy->-r requirements.txt (line 3)) (0.4.9)\n",
            "Requirement already satisfied: python-dateutil>=2.8.1 in /usr/local/lib/python3.10/dist-packages (from pandas->-r requirements.txt (line 4)) (2.8.2)\n",
            "Requirement already satisfied: pytz>=2020.1 in /usr/local/lib/python3.10/dist-packages (from pandas->-r requirements.txt (line 4)) (2023.4)\n",
            "Requirement already satisfied: cachetools<6.0,>=2.0.0 in /usr/local/lib/python3.10/dist-packages (from google-auth->-r requirements.txt (line 5)) (5.3.3)\n",
            "Requirement already satisfied: pyasn1-modules>=0.2.1 in /usr/local/lib/python3.10/dist-packages (from google-auth->-r requirements.txt (line 5)) (0.3.0)\n",
            "Requirement already satisfied: rsa<5,>=3.1.4 in /usr/local/lib/python3.10/dist-packages (from google-auth->-r requirements.txt (line 5)) (4.9)\n",
            "Requirement already satisfied: triton<3,>=2.0.0 in /usr/local/lib/python3.10/dist-packages (from openai-whisper->-r requirements.txt (line 8)) (2.1.0)\n",
            "Requirement already satisfied: numba in /usr/local/lib/python3.10/dist-packages (from openai-whisper->-r requirements.txt (line 8)) (0.58.1)\n",
            "Requirement already satisfied: torch in /usr/local/lib/python3.10/dist-packages (from openai-whisper->-r requirements.txt (line 8)) (2.1.0+cu121)\n",
            "Requirement already satisfied: more-itertools in /usr/local/lib/python3.10/dist-packages (from openai-whisper->-r requirements.txt (line 8)) (10.1.0)\n",
            "Requirement already satisfied: tiktoken in /usr/local/lib/python3.10/dist-packages (from openai-whisper->-r requirements.txt (line 8)) (0.6.0)\n",
            "Requirement already satisfied: mutagen in /usr/local/lib/python3.10/dist-packages (from yt_dlp->-r requirements.txt (line 9)) (1.47.0)\n",
            "Requirement already satisfied: pycryptodomex in /usr/local/lib/python3.10/dist-packages (from yt_dlp->-r requirements.txt (line 9)) (3.20.0)\n",
            "Requirement already satisfied: certifi in /usr/local/lib/python3.10/dist-packages (from yt_dlp->-r requirements.txt (line 9)) (2024.2.2)\n",
            "Requirement already satisfied: urllib3<3,>=1.26.17 in /usr/local/lib/python3.10/dist-packages (from yt_dlp->-r requirements.txt (line 9)) (2.0.7)\n",
            "Requirement already satisfied: websockets>=12.0 in /usr/local/lib/python3.10/dist-packages (from yt_dlp->-r requirements.txt (line 9)) (12.0)\n",
            "Requirement already satisfied: brotli in /usr/local/lib/python3.10/dist-packages (from yt_dlp->-r requirements.txt (line 9)) (1.1.0)\n",
            "Requirement already satisfied: pillow<10.1.0,>=8.3.2 in /usr/local/lib/python3.10/dist-packages (from imageio<3.0,>=2.5->moviepy->-r requirements.txt (line 3)) (9.4.0)\n",
            "Requirement already satisfied: setuptools in /usr/local/lib/python3.10/dist-packages (from imageio-ffmpeg>=0.2.0->moviepy->-r requirements.txt (line 3)) (67.7.2)\n",
            "Requirement already satisfied: MarkupSafe>=2.0 in /usr/local/lib/python3.10/dist-packages (from Jinja2>=3.0->flask->-r requirements.txt (line 2)) (2.1.5)\n",
            "Requirement already satisfied: pyasn1<0.6.0,>=0.4.6 in /usr/local/lib/python3.10/dist-packages (from pyasn1-modules>=0.2.1->google-auth->-r requirements.txt (line 5)) (0.5.1)\n",
            "Requirement already satisfied: six>=1.5 in /usr/local/lib/python3.10/dist-packages (from python-dateutil>=2.8.1->pandas->-r requirements.txt (line 4)) (1.16.0)\n",
            "Requirement already satisfied: charset-normalizer<4,>=2 in /usr/local/lib/python3.10/dist-packages (from requests<3.0,>=2.8.1->moviepy->-r requirements.txt (line 3)) (3.3.2)\n",
            "Requirement already satisfied: idna<4,>=2.5 in /usr/local/lib/python3.10/dist-packages (from requests<3.0,>=2.8.1->moviepy->-r requirements.txt (line 3)) (3.6)\n",
            "Requirement already satisfied: filelock in /usr/local/lib/python3.10/dist-packages (from triton<3,>=2.0.0->openai-whisper->-r requirements.txt (line 8)) (3.13.1)\n",
            "Requirement already satisfied: llvmlite<0.42,>=0.41.0dev0 in /usr/local/lib/python3.10/dist-packages (from numba->openai-whisper->-r requirements.txt (line 8)) (0.41.1)\n",
            "Requirement already satisfied: regex>=2022.1.18 in /usr/local/lib/python3.10/dist-packages (from tiktoken->openai-whisper->-r requirements.txt (line 8)) (2023.12.25)\n",
            "Requirement already satisfied: typing-extensions in /usr/local/lib/python3.10/dist-packages (from torch->openai-whisper->-r requirements.txt (line 8)) (4.10.0)\n",
            "Requirement already satisfied: sympy in /usr/local/lib/python3.10/dist-packages (from torch->openai-whisper->-r requirements.txt (line 8)) (1.12)\n",
            "Requirement already satisfied: networkx in /usr/local/lib/python3.10/dist-packages (from torch->openai-whisper->-r requirements.txt (line 8)) (3.2.1)\n",
            "Requirement already satisfied: fsspec in /usr/local/lib/python3.10/dist-packages (from torch->openai-whisper->-r requirements.txt (line 8)) (2023.6.0)\n",
            "Requirement already satisfied: mpmath>=0.19 in /usr/local/lib/python3.10/dist-packages (from sympy->torch->openai-whisper->-r requirements.txt (line 8)) (1.3.0)\n"
          ]
        }
      ],
      "source": [
        "!pip install -r requirements.txt\n"
      ]
    },
    {
      "cell_type": "code",
      "source": [
        "cd /content"
      ],
      "metadata": {
        "colab": {
          "base_uri": "https://localhost:8080/"
        },
        "id": "uMvabew4kaD6",
        "outputId": "707350cf-1580-46ca-bd2d-e0e744c3341d"
      },
      "execution_count": 3,
      "outputs": [
        {
          "output_type": "stream",
          "name": "stdout",
          "text": [
            "/content\n"
          ]
        }
      ]
    },
    {
      "cell_type": "code",
      "execution_count": 20,
      "metadata": {
        "id": "d6kJnegCuXe7",
        "colab": {
          "base_uri": "https://localhost:8080/"
        },
        "outputId": "8422389e-cb59-425f-94bc-57fa88e62cbb"
      },
      "outputs": [
        {
          "output_type": "stream",
          "name": "stdout",
          "text": [
            "--2024-03-10 08:54:51--  https://bin.equinox.io/c/4VmDzA7iaHb/ngrok-stable-linux-amd64.zip\n",
            "Resolving bin.equinox.io (bin.equinox.io)... 18.205.222.128, 54.237.133.81, 54.161.241.46, ...\n",
            "Connecting to bin.equinox.io (bin.equinox.io)|18.205.222.128|:443... connected.\n",
            "HTTP request sent, awaiting response... 200 OK\n",
            "Length: 13921656 (13M) [application/octet-stream]\n",
            "Saving to: ‘ngrok-stable-linux-amd64.zip’\n",
            "\n",
            "ngrok-stable-linux- 100%[===================>]  13.28M  17.8MB/s    in 0.7s    \n",
            "\n",
            "2024-03-10 08:54:52 (17.8 MB/s) - ‘ngrok-stable-linux-amd64.zip’ saved [13921656/13921656]\n",
            "\n",
            "Archive:  ngrok-stable-linux-amd64.zip\n",
            "  inflating: ngrok                   \n"
          ]
        }
      ],
      "source": [
        "!wget https://bin.equinox.io/c/4VmDzA7iaHb/ngrok-stable-linux-amd64.zip\n",
        "!unzip ngrok-stable-linux-amd64.zip\n",
        "\n",
        "\n"
      ]
    },
    {
      "cell_type": "code",
      "execution_count": 21,
      "metadata": {
        "id": "m0mJ1Tjmvmp_",
        "colab": {
          "base_uri": "https://localhost:8080/"
        },
        "outputId": "c069d042-2619-4ff5-f12b-f99f669020a6"
      },
      "outputs": [
        {
          "output_type": "stream",
          "name": "stdout",
          "text": [
            "Requirement already satisfied: pyngrok in /usr/local/lib/python3.10/dist-packages (7.1.5)\n",
            "Requirement already satisfied: PyYAML>=5.1 in /usr/local/lib/python3.10/dist-packages (from pyngrok) (6.0.1)\n"
          ]
        }
      ],
      "source": [
        "!pip install pyngrok\n",
        "\n",
        "\n"
      ]
    },
    {
      "cell_type": "code",
      "execution_count": 10,
      "metadata": {
        "id": "uw1mk4xkFpCr"
      },
      "outputs": [],
      "source": [
        "from pyngrok import ngrok\n",
        "\n",
        "# Authenticate with your Ngrok token\n",
        "ngrok.set_auth_token(\"2ZXpVv0IqJalvnwasKWBXDU3SZd_5ci2PsXuAPHo2NrEudUk8\")\n"
      ]
    },
    {
      "cell_type": "code",
      "execution_count": 11,
      "metadata": {
        "colab": {
          "base_uri": "https://localhost:8080/"
        },
        "id": "H51Xc2pJF2Mq",
        "outputId": "dd5b78cf-222b-4859-c239-5e080b1009df"
      },
      "outputs": [
        {
          "output_type": "stream",
          "name": "stdout",
          "text": [
            "Public URL: NgrokTunnel: \"https://f1e9-34-82-40-222.ngrok-free.app\" -> \"http://localhost:8080\"\n"
          ]
        }
      ],
      "source": [
        "public_url = ngrok.connect(addr='8080', proto='http')\n",
        "print(\"Public URL:\", public_url)"
      ]
    },
    {
      "cell_type": "code",
      "execution_count": null,
      "metadata": {
        "id": "cn4KGVtjGIxu",
        "colab": {
          "base_uri": "https://localhost:8080/"
        },
        "outputId": "11f3d215-7ec1-44d2-810e-ec84df4af1d6"
      },
      "outputs": [
        {
          "output_type": "stream",
          "name": "stdout",
          "text": [
            "Address already in use\n",
            "Port 8080 is in use by another program. Either identify and stop that program, or start the server with a different port.\n"
          ]
        }
      ],
      "source": [
        "!python app.py > output.log &\n"
      ]
    },
    {
      "cell_type": "code",
      "source": [
        "# prompt: update juptyerlab\n",
        "\n",
        "!pip install jupyterlab --upgrade\n"
      ],
      "metadata": {
        "id": "YSXbKg0TlBzt"
      },
      "execution_count": null,
      "outputs": []
    },
    {
      "cell_type": "code",
      "source": [],
      "metadata": {
        "id": "DjrhR1TJmXtA"
      },
      "execution_count": null,
      "outputs": []
    },
    {
      "cell_type": "code",
      "execution_count": 18,
      "metadata": {
        "id": "wCpqtx6rGSn5",
        "colab": {
          "base_uri": "https://localhost:8080/"
        },
        "outputId": "a4fb35fb-62aa-4a1d-9f43-af8b282ed79b"
      },
      "outputs": [
        {
          "output_type": "stream",
          "name": "stdout",
          "text": [
            "Public URL: NgrokTunnel: \"https://1d49-34-82-40-222.ngrok-free.app\" -> \"http://localhost:8080\"\n",
            "* Serving Flask app 'app'\n",
            "* Debug mode: on\n"
          ]
        },
        {
          "output_type": "stream",
          "name": "stderr",
          "text": [
            "Exception ignored in: <function Popen.__del__ at 0x7c5c7bef4670>\n",
            "Traceback (most recent call last):\n",
            "  File \"/usr/lib/python3.10/subprocess.py\", line 1065, in __del__\n",
            "    def __del__(self, _maxsize=sys.maxsize, _warn=warnings.warn):\n",
            "KeyboardInterrupt: \n"
          ]
        }
      ],
      "source": [
        "import subprocess\n",
        "import time\n",
        "\n",
        "def tail_log_file(log_file):\n",
        "    process = subprocess.Popen([\"tail\", \"-f\", log_file], stdout=subprocess.PIPE)\n",
        "    try:\n",
        "        for line in iter(process.stdout.readline, b''):\n",
        "            print(line.decode().strip())\n",
        "            time.sleep(0.1)  # Adjust the sleep time as needed\n",
        "    except KeyboardInterrupt:\n",
        "        process.kill()\n",
        "\n",
        "public_url = ngrok.connect(addr='8080', proto='http')\n",
        "print(\"Public URL:\", public_url)\n",
        "\n",
        "# Call the function to tail the log file\n",
        "tail_log_file(\"output.log\")\n",
        "\n",
        "\n"
      ]
    }
  ],
  "metadata": {
    "colab": {
      "provenance": [],
      "authorship_tag": "ABX9TyMqx8dZaqx+UtxjrcrmfvFa",
      "include_colab_link": true
    },
    "kernelspec": {
      "display_name": "Python 3",
      "name": "python3"
    },
    "language_info": {
      "name": "python"
    }
  },
  "nbformat": 4,
  "nbformat_minor": 0
}