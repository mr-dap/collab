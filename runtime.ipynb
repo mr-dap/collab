{
  "cells": [
    {
      "cell_type": "markdown",
      "metadata": {
        "id": "view-in-github",
        "colab_type": "text"
      },
      "source": [
        "<a href=\"https://colab.research.google.com/github/mr-dap/collab/blob/main/runtime.ipynb\" target=\"_parent\"><img src=\"https://colab.research.google.com/assets/colab-badge.svg\" alt=\"Open In Colab\"/></a>"
      ]
    },
    {
      "cell_type": "code",
      "execution_count": null,
      "metadata": {
        "colab": {
          "base_uri": "https://localhost:8080/"
        },
        "id": "i0dSf6hfsqLN",
        "outputId": "d9bdecab-6e7e-40e1-8c23-54ce88bc5399"
      },
      "outputs": [
        {
          "name": "stdout",
          "output_type": "stream",
          "text": [
            "Extraction complete.\n"
          ]
        }
      ],
      "source": [
        "import zipfile\n",
        "import os\n",
        "\n",
        "# Specify the name of the zip file\n",
        "zip_file_name = 'video-convert.zip'\n",
        "\n",
        "# Specify the directory where you want to extract the contents\n",
        "extract_dir = '/content/extracted_files/'\n",
        "\n",
        "# Create the directory if it doesn't exist\n",
        "os.makedirs(extract_dir, exist_ok=True)\n",
        "\n",
        "# Extract the contents of the zip file\n",
        "try:\n",
        "    with zipfile.ZipFile(zip_file_name, 'r') as zip_ref:\n",
        "        zip_ref.extractall(extract_dir)\n",
        "    print(\"Extraction complete.\")\n",
        "except Exception as e:\n",
        "    print(f\"Error occurred while extracting the zip file: {e}\")\n",
        "\n"
      ]
    },
    {
      "cell_type": "code",
      "execution_count": null,
      "metadata": {
        "colab": {
          "background_save": true
        },
        "id": "LZjZG8SUs8MU"
      },
      "outputs": [],
      "source": [
        "# prompt: move all files from video-convert\\video-conver to main files boafrd\n",
        "\n",
        "import os\n",
        "import shutil\n",
        "\n",
        "# Source directory\n",
        "src_dir = 'extracted_files/video-convert'\n",
        "\n",
        "# Destination directory\n",
        "dst_dir = ''\n",
        "\n",
        "# Iterate over files in the source directory\n",
        "for filename in os.listdir(src_dir):\n",
        "  src_path = os.path.join(src_dir, filename)\n",
        "  dst_path = os.path.join(dst_dir, filename)\n",
        "\n",
        "  # Move the file\n",
        "  shutil.move(src_path, dst_path)\n"
      ]
    },
    {
      "cell_type": "code",
      "source": [],
      "metadata": {
        "id": "bqQPllQ9Vblf"
      },
      "execution_count": null,
      "outputs": []
    },
    {
      "cell_type": "code",
      "execution_count": null,
      "metadata": {
        "id": "7RgOHSAat1LX"
      },
      "outputs": [],
      "source": [
        "!pip install -r requirements.txt\n"
      ]
    },
    {
      "cell_type": "code",
      "execution_count": null,
      "metadata": {
        "id": "d6kJnegCuXe7"
      },
      "outputs": [],
      "source": [
        "!wget https://bin.equinox.io/c/4VmDzA7iaHb/ngrok-stable-linux-amd64.zip\n",
        "!unzip ngrok-stable-linux-amd64.zip\n",
        "\n",
        "\n"
      ]
    },
    {
      "cell_type": "code",
      "execution_count": 6,
      "metadata": {
        "id": "m0mJ1Tjmvmp_",
        "colab": {
          "base_uri": "https://localhost:8080/"
        },
        "outputId": "f5266d12-8619-43e4-c7eb-76985a8db089"
      },
      "outputs": [
        {
          "output_type": "stream",
          "name": "stdout",
          "text": [
            "Collecting pyngrok\n",
            "  Downloading pyngrok-7.1.5-py3-none-any.whl (22 kB)\n",
            "Requirement already satisfied: PyYAML>=5.1 in /usr/local/lib/python3.10/dist-packages (from pyngrok) (6.0.1)\n",
            "Installing collected packages: pyngrok\n",
            "Successfully installed pyngrok-7.1.5\n"
          ]
        }
      ],
      "source": [
        "!pip install pyngrok\n",
        "\n",
        "\n"
      ]
    },
    {
      "cell_type": "code",
      "execution_count": 7,
      "metadata": {
        "id": "uw1mk4xkFpCr",
        "colab": {
          "base_uri": "https://localhost:8080/"
        },
        "outputId": "239df529-d4c8-4fa6-c8c5-420a1337d6ad"
      },
      "outputs": [
        {
          "output_type": "stream",
          "name": "stdout",
          "text": []
        }
      ],
      "source": [
        "from pyngrok import ngrok\n",
        "\n",
        "# Authenticate with your Ngrok token\n",
        "ngrok.set_auth_token(\"2ZXpVv0IqJalvnwasKWBXDU3SZd_5ci2PsXuAPHo2NrEudUk8\")\n"
      ]
    },
    {
      "cell_type": "code",
      "execution_count": null,
      "metadata": {
        "colab": {
          "base_uri": "https://localhost:8080/"
        },
        "id": "H51Xc2pJF2Mq",
        "outputId": "33f96cdd-21c6-46eb-a409-69c3a4387014"
      },
      "outputs": [
        {
          "name": "stdout",
          "output_type": "stream",
          "text": [
            "Public URL: NgrokTunnel: \"https://dea6-35-231-140-141.ngrok-free.app\" -> \"http://localhost:8080\"\n"
          ]
        }
      ],
      "source": [
        "public_url = ngrok.connect(addr='8080', proto='http')\n",
        "print(\"Public URL:\", public_url)"
      ]
    },
    {
      "cell_type": "code",
      "execution_count": 16,
      "metadata": {
        "id": "cn4KGVtjGIxu",
        "colab": {
          "base_uri": "https://localhost:8080/"
        },
        "outputId": "11f3d215-7ec1-44d2-810e-ec84df4af1d6"
      },
      "outputs": [
        {
          "output_type": "stream",
          "name": "stdout",
          "text": [
            "Address already in use\n",
            "Port 8080 is in use by another program. Either identify and stop that program, or start the server with a different port.\n"
          ]
        }
      ],
      "source": [
        "!python app.py > output.log &\n"
      ]
    },
    {
      "cell_type": "code",
      "execution_count": null,
      "metadata": {
        "id": "wCpqtx6rGSn5",
        "colab": {
          "base_uri": "https://localhost:8080/"
        },
        "outputId": "407eaf95-a6d0-48ce-fee5-66c59995da78"
      },
      "outputs": [
        {
          "output_type": "stream",
          "name": "stdout",
          "text": [
            "Public URL: NgrokTunnel: \"https://8619-34-82-40-222.ngrok-free.app\" -> \"http://localhost:8080\"\n",
            "* Serving Flask app 'app'\n",
            "* Debug mode: on\n"
          ]
        }
      ],
      "source": [
        "import subprocess\n",
        "import time\n",
        "\n",
        "def tail_log_file(log_file):\n",
        "    process = subprocess.Popen([\"tail\", \"-f\", log_file], stdout=subprocess.PIPE)\n",
        "    try:\n",
        "        for line in iter(process.stdout.readline, b''):\n",
        "            print(line.decode().strip())\n",
        "            time.sleep(0.1)  # Adjust the sleep time as needed\n",
        "    except KeyboardInterrupt:\n",
        "        process.kill()\n",
        "\n",
        "public_url = ngrok.connect(addr='8080', proto='http')\n",
        "print(\"Public URL:\", public_url)\n",
        "\n",
        "# Call the function to tail the log file\n",
        "tail_log_file(\"output.log\")\n",
        "\n",
        "\n"
      ]
    }
  ],
  "metadata": {
    "colab": {
      "provenance": [],
      "authorship_tag": "ABX9TyOnsPy2R8WP6mDEzeFC57og",
      "include_colab_link": true
    },
    "kernelspec": {
      "display_name": "Python 3",
      "name": "python3"
    },
    "language_info": {
      "name": "python"
    }
  },
  "nbformat": 4,
  "nbformat_minor": 0
}