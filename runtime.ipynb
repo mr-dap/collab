{
  "nbformat": 4,
  "nbformat_minor": 0,
  "metadata": {
    "colab": {
      "provenance": [],
      "authorship_tag": "ABX9TyOze0vjwn+Cp5YIs6zBgr1p",
      "include_colab_link": true
    },
    "kernelspec": {
      "name": "python3",
      "display_name": "Python 3"
    },
    "language_info": {
      "name": "python"
    }
  },
  "cells": [
    {
      "cell_type": "markdown",
      "metadata": {
        "id": "view-in-github",
        "colab_type": "text"
      },
      "source": [
        "<a href=\"https://colab.research.google.com/github/mr-dap/collab/blob/main/runtime.ipynb\" target=\"_parent\"><img src=\"https://colab.research.google.com/assets/colab-badge.svg\" alt=\"Open In Colab\"/></a>"
      ]
    },
    {
      "cell_type": "code",
      "execution_count": null,
      "metadata": {
        "id": "i0dSf6hfsqLN",
        "outputId": "75075ddd-1bff-4a6e-c33b-08a946f97854",
        "colab": {
          "base_uri": "https://localhost:8080/"
        }
      },
      "outputs": [
        {
          "output_type": "stream",
          "name": "stdout",
          "text": [
            "Extraction complete.\n"
          ]
        }
      ],
      "source": [
        "import zipfile\n",
        "import os\n",
        "\n",
        "# Specify the name of the zip file\n",
        "zip_file_name = 'video-convert.zip'\n",
        "\n",
        "# Specify the directory where you want to extract the contents\n",
        "extract_dir = '/content/extracted_files/'\n",
        "\n",
        "# Create the directory if it doesn't exist\n",
        "os.makedirs(extract_dir, exist_ok=True)\n",
        "\n",
        "# Extract the contents of the zip file\n",
        "try:\n",
        "    with zipfile.ZipFile(zip_file_name, 'r') as zip_ref:\n",
        "        zip_ref.extractall(extract_dir)\n",
        "    print(\"Extraction complete.\")\n",
        "except Exception as e:\n",
        "    print(f\"Error occurred while extracting the zip file: {e}\")\n",
        "\n"
      ]
    },
    {
      "cell_type": "code",
      "source": [
        "# prompt: move all files from video-convert\\video-conver to main files boafrd\n",
        "\n",
        "import os\n",
        "import shutil\n",
        "\n",
        "# Source directory\n",
        "src_dir = 'video-convert/video-convert'\n",
        "\n",
        "# Destination directory\n",
        "dst_dir = ''\n",
        "\n",
        "# Iterate over files in the source directory\n",
        "for filename in os.listdir(src_dir):\n",
        "  src_path = os.path.join(src_dir, filename)\n",
        "  dst_path = os.path.join(dst_dir, filename)\n",
        "\n",
        "  # Move the file\n",
        "  shutil.move(src_path, dst_path)\n"
      ],
      "metadata": {
        "id": "LZjZG8SUs8MU"
      },
      "execution_count": null,
      "outputs": []
    },
    {
      "cell_type": "code",
      "source": [
        "!pip install -r requirements.txt\n"
      ],
      "metadata": {
        "id": "7RgOHSAat1LX"
      },
      "execution_count": null,
      "outputs": []
    },
    {
      "cell_type": "code",
      "source": [
        "!wget https://bin.equinox.io/c/4VmDzA7iaHb/ngrok-stable-linux-amd64.zip\n",
        "!unzip ngrok-stable-linux-amd64.zip\n",
        "\n",
        "\n"
      ],
      "metadata": {
        "id": "d6kJnegCuXe7"
      },
      "execution_count": null,
      "outputs": []
    },
    {
      "cell_type": "code",
      "source": [
        "!pip install pyngrok\n",
        "\n",
        "\n"
      ],
      "metadata": {
        "id": "m0mJ1Tjmvmp_"
      },
      "execution_count": null,
      "outputs": []
    },
    {
      "cell_type": "code",
      "source": [
        "from pyngrok import ngrok\n",
        "\n",
        "# Authenticate with your Ngrok token\n",
        "ngrok.set_auth_token(\"2ZXpVv0IqJalvnwasKWBXDU3SZd_5ci2PsXuAPHo2NrEudUk8\")\n"
      ],
      "metadata": {
        "id": "uw1mk4xkFpCr"
      },
      "execution_count": 14,
      "outputs": []
    },
    {
      "cell_type": "code",
      "source": [
        "public_url = ngrok.connect(addr='8080', proto='http')\n",
        "print(\"Public URL:\", public_url)"
      ],
      "metadata": {
        "id": "H51Xc2pJF2Mq"
      },
      "execution_count": null,
      "outputs": []
    },
    {
      "cell_type": "code",
      "source": [
        "!python app.py > output.log &\n"
      ],
      "metadata": {
        "id": "cn4KGVtjGIxu"
      },
      "execution_count": null,
      "outputs": []
    },
    {
      "cell_type": "code",
      "source": [
        "import subprocess\n",
        "import time\n",
        "\n",
        "def tail_log_file(log_file):\n",
        "    process = subprocess.Popen([\"tail\", \"-f\", log_file], stdout=subprocess.PIPE)\n",
        "    try:\n",
        "        for line in iter(process.stdout.readline, b''):\n",
        "            print(line.decode().strip())\n",
        "            time.sleep(0.1)  # Adjust the sleep time as needed\n",
        "    except KeyboardInterrupt:\n",
        "        process.kill()\n",
        "\n",
        "# Call the function to tail the log file\n",
        "tail_log_file(\"output.log\")\n"
      ],
      "metadata": {
        "colab": {
          "base_uri": "https://localhost:8080/"
        },
        "id": "wCpqtx6rGSn5",
        "outputId": "31c673ba-eb37-4c8d-fb0e-41eb95dcfb89"
      },
      "execution_count": null,
      "outputs": [
        {
          "output_type": "stream",
          "name": "stdout",
          "text": [
            "* Serving Flask app 'app'\n",
            "* Debug mode: on\n"
          ]
        }
      ]
    }
  ]
}